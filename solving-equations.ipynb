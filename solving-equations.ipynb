{
 "cells": [
  {
   "cell_type": "markdown",
   "metadata": {},
   "source": [
    "# Solving Linear equations using Python "
   ]
  },
  {
   "cell_type": "markdown",
   "metadata": {},
   "source": []
  },
  {
   "cell_type": "code",
   "execution_count": 3,
   "metadata": {},
   "outputs": [
    {
     "name": "stdout",
     "output_type": "stream",
     "text": [
      "(Matrix([\n",
      "[1, -2, 0, 0, 3],\n",
      "[0,  0, 1, 0, 2],\n",
      "[0,  0, 0, 1, 1],\n",
      "[0,  0, 0, 0, 0]]), (0, 2, 3))\n"
     ]
    }
   ],
   "source": [
    "import sympy\n",
    "\n",
    "M = sympy.Matrix([[1, -2, 3, 5, 14],\n",
    "                 [-2, 4,-5,-10,-26],\n",
    "                 [ 2,-4, 6, 11, 29],\n",
    "                 [-1, 2, -2, -5,-12]])\n",
    "\n",
    "print(M.rref())                   \n"
   ]
  },
  {
   "cell_type": "markdown",
   "metadata": {},
   "source": [
    "Om ett linjärt ekvationssystem Ax = b d¨ar A ∈ R\n",
    "n×n har en entydig\n",
    "lösning så kan det lösas med koden\n",
    "\n",
    "```\n",
    "import numpy\n",
    "import scipy.linalg\n",
    "\n",
    "A = numpy.array([[ 1, -2, 3],\n",
    "[ 2, -4, 7],\n",
    "[-3, 5, -1]])\n",
    "b = numpy.array([1, 3, 2])\n",
    "x = scipy.linalg.solve(A, b)\n",
    "print(x)\n",
    "```\n",
    "\n",
    "vilket ger resultatet: [4. 3. 1.]\n",
    "\n",
    "Övning.  Lös några uppgifter från boken eller andra källor med hjälp\n",
    "av scipy.linalg.solve(A, b)"
   ]
  },
  {
   "cell_type": "code",
   "execution_count": 4,
   "metadata": {},
   "outputs": [
    {
     "name": "stdout",
     "output_type": "stream",
     "text": [
      "[4. 3. 1.]\n"
     ]
    }
   ],
   "source": [
    "import numpy\n",
    "import scipy.linalg\n",
    "\n",
    "A = numpy.array([[1, -2, 3],\n",
    "                 [2, -4, 7],\n",
    "                 [-3, 5, -1]])\n",
    "\n",
    "x = scipy.linalg.solve(A, b)\n",
    "print(x)\n"
   ]
  }
 ],
 "metadata": {
  "kernelspec": {
   "display_name": "Python 3.9.13 ('Linear-algebra-7oi6Pgix')",
   "language": "python",
   "name": "python3"
  },
  "language_info": {
   "codemirror_mode": {
    "name": "ipython",
    "version": 3
   },
   "file_extension": ".py",
   "mimetype": "text/x-python",
   "name": "python",
   "nbconvert_exporter": "python",
   "pygments_lexer": "ipython3",
   "version": "3.9.13"
  },
  "orig_nbformat": 4,
  "vscode": {
   "interpreter": {
    "hash": "0b2028e19ffcd14b8ffbcf04b6aa8d066c719ebe0556f3b131af3aac4988d467"
   }
  }
 },
 "nbformat": 4,
 "nbformat_minor": 2
}
